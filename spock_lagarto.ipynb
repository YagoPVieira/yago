{
  "nbformat": 4,
  "nbformat_minor": 0,
  "metadata": {
    "colab": {
      "provenance": [],
      "authorship_tag": "ABX9TyNm5oP+QluS+BNVokD2KhHJ",
      "include_colab_link": true
    },
    "kernelspec": {
      "name": "python3",
      "display_name": "Python 3"
    },
    "language_info": {
      "name": "python"
    }
  },
  "cells": [
    {
      "cell_type": "markdown",
      "metadata": {
        "id": "view-in-github",
        "colab_type": "text"
      },
      "source": [
        "<a href=\"https://colab.research.google.com/github/YagoPVieira/yago/blob/main/spock_lagarto.ipynb\" target=\"_parent\"><img src=\"https://colab.research.google.com/assets/colab-badge.svg\" alt=\"Open In Colab\"/></a>"
      ]
    },
    {
      "cell_type": "code",
      "source": [
        "import random\n",
        "\n",
        "def vencedor(jogador, computador):\n",
        "    jogo = {\n",
        "        \"tesoura\": [\"papel\", \"lagarto\"],\n",
        "        \"papel\": [\"pedra\", \"spock\"],\n",
        "        \"pedra\": [\"tesoura\", \"lagarto\"],\n",
        "        \"lagarto\": [\"spock\", \"papel\"],\n",
        "        \"spock\": [\"tesoura\", \"pedra\"]\n",
        "    }\n",
        "\n",
        "    if jogador == computador:\n",
        "        return \"Empate!\"\n",
        "    elif computador in jogo[jogador]:\n",
        "        return \"Você venceu!\"\n",
        "    else:\n",
        "        return \"Você perdeu!\"\n",
        "\n",
        "def main():\n",
        "    opcoes = [\"pedra\", \"papel\", \"tesoura\", \"lagarto\", \"spock\"]\n",
        "\n",
        "    print(\"Bem-vindo ao Jogo!\")\n",
        "\n",
        "    while True:\n",
        "        print(\"Opções: pedra, papel, tesoura, lagarto, spock\")\n",
        "        jogador = input(\"Escolha sua jogada: \").lower()\n",
        "\n",
        "        computador = random.choice(opcoes)\n",
        "\n",
        "        print(f\"Sua escolha: {jogador}\")\n",
        "        print(f\"Escolha do computador: {computador}\")\n",
        "\n",
        "        print(vencedor(jogador, computador))\n",
        "\n",
        "        jogar_novamente = input(\"Quer jogar novamente? (s/n): \").lower()\n",
        "        if jogar_novamente != 's':\n",
        "            print(\"O jogo terminou!\")\n",
        "            break\n",
        "\n",
        "if __name__ == \"__main__\":\n",
        "    main()\n"
      ],
      "metadata": {
        "colab": {
          "base_uri": "https://localhost:8080/"
        },
        "id": "4Tk_Ojum180_",
        "outputId": "6dc8c3c5-39a8-4545-e19d-9534993265de"
      },
      "execution_count": 5,
      "outputs": [
        {
          "output_type": "stream",
          "name": "stdout",
          "text": [
            "Bem-vindo ao Jogo!\n",
            "Opções: pedra, papel, tesoura, lagarto, spock\n",
            "Escolha sua jogada: tesoura\n",
            "Sua escolha: tesoura\n",
            "Escolha do computador: tesoura\n",
            "Empate!\n",
            "Quer jogar novamente? (s/n): s\n",
            "Opções: pedra, papel, tesoura, lagarto, spock\n",
            "Escolha sua jogada: lagarto\n",
            "Sua escolha: lagarto\n",
            "Escolha do computador: pedra\n",
            "Você perdeu!\n",
            "Quer jogar novamente? (s/n): n\n",
            "O jogo terminou!\n"
          ]
        }
      ]
    }
  ]
}