{
  "nbformat": 4,
  "nbformat_minor": 0,
  "metadata": {
    "colab": {
      "provenance": [],
      "authorship_tag": "ABX9TyNwuYWL1FINdWA69nUXqx1L",
      "include_colab_link": true
    },
    "kernelspec": {
      "name": "python3",
      "display_name": "Python 3"
    },
    "language_info": {
      "name": "python"
    }
  },
  "cells": [
    {
      "cell_type": "markdown",
      "metadata": {
        "id": "view-in-github",
        "colab_type": "text"
      },
      "source": [
        "<a href=\"https://colab.research.google.com/github/YagoPVieira/yago/blob/main/Atividade14.ipynb\" target=\"_parent\"><img src=\"https://colab.research.google.com/assets/colab-badge.svg\" alt=\"Open In Colab\"/></a>"
      ]
    },
    {
      "cell_type": "code",
      "source": [
        "import tensorflow as tf\n",
        "from tensorflow.keras.datasets import cifar10\n",
        "import numpy as np\n",
        "from tensorflow.keras.preprocessing import image\n",
        "import matplotlib.pyplot as plt\n",
        "\n",
        "(train_images, train_labels), (test_images, test_labels) = cifar10.load_data()\n",
        "\n",
        "train_images = train_images / 255.0\n",
        "test_images = test_images / 255.0\n",
        "\n",
        "model = tf.keras.models.Sequential([\n",
        "    tf.keras.layers.Conv2D(32, (3, 3), activation='relu', input_shape=(32, 32, 3)),\n",
        "    tf.keras.layers.MaxPooling2D((2, 2)),\n",
        "    tf.keras.layers.Conv2D(64, (3, 3), activation='relu'),\n",
        "    tf.keras.layers.MaxPooling2D((2, 2)),\n",
        "    tf.keras.layers.Conv2D(128, (3, 3), activation='relu'),\n",
        "    tf.keras.layers.MaxPooling2D((2, 2)),\n",
        "    tf.keras.layers.Flatten(),\n",
        "    tf.keras.layers.Dense(512, activation='relu'),\n",
        "    tf.keras.layers.Dense(10, activation='softmax')\n",
        "])\n",
        "\n",
        "model.compile(optimizer='adam',\n",
        "              loss='sparse_categorical_crossentropy',\n",
        "              metrics=['accuracy'])\n",
        "\n",
        "history = model.fit(train_images, train_labels,\n",
        "                    epochs=10,\n",
        "                    validation_data=(test_images, test_labels))\n",
        "\n",
        "test_loss, test_acc = model.evaluate(test_images, test_labels)\n",
        "print('Test accuracy:', test_acc)\n",
        "\n",
        "model.save('modelo_cifar10.h5')\n",
        "\n",
        "class_names = ['avião', 'carro', 'passarinho', 'gato', 'urso', 'cachorro', 'sapo', 'cavalo', 'moto', 'caminhão']\n",
        "\n",
        "np.random.seed(42)\n",
        "indices_aleatorios = np.random.choice(len(test_images), 20, replace=False)\n",
        "\n",
        "acertos = 0\n",
        "\n",
        "for i in range(20):\n",
        "    idx = indices_aleatorios[i]\n",
        "    img = test_images[idx]\n",
        "    real_label = test_labels[idx][0]\n",
        "\n",
        "    img_array = np.expand_dims(img, axis=0)\n",
        "\n",
        "    prediction = model.predict(img_array, verbose=0)\n",
        "    predicted_class = np.argmax(prediction)\n",
        "\n",
        "    real_nome = class_names[real_label]\n",
        "    previsto_nome = class_names[predicted_class]\n",
        "\n",
        "    correto = real_label == predicted_class\n",
        "    status = \"CERTO\" if correto else \"ERRO\"\n",
        "\n",
        "    if correto:\n",
        "        acertos += 1\n",
        "\n",
        "    print(f\"Imagem {i+1}: {real_nome} -> {previsto_nome} ({status})\")\n",
        "\n",
        "efetividade = (acertos / 20) * 100\n",
        "print(f\"\\nEfetividade: {acertos}/20 = {efetividade:.1f}%\")\n",
        "\n",
        "def testar_imagem_individual(image_path):\n",
        "    model_carregado = tf.keras.models.load_model('modelo_cifar10.h5')\n",
        "\n",
        "    img = image.load_img(image_path, target_size=(32, 32))\n",
        "    img_array = image.img_to_array(img)\n",
        "    img_array = np.expand_dims(img_array, axis=0)\n",
        "    img_array /= 255.0\n",
        "\n",
        "    prediction = model_carregado.predict(img_array)\n",
        "    predicted_class = np.argmax(prediction)\n",
        "\n",
        "    predicted_label = class_names[predicted_class]\n",
        "\n",
        "    print(f'Predicted class: {predicted_label}')\n",
        "\n",
        "    return predicted_label"
      ],
      "metadata": {
        "colab": {
          "base_uri": "https://localhost:8080/"
        },
        "id": "0feGBTLiwT7b",
        "outputId": "61952bff-8a43-4db2-c61a-c9c395fd3adc"
      },
      "execution_count": 2,
      "outputs": [
        {
          "output_type": "stream",
          "name": "stdout",
          "text": [
            "Epoch 1/10\n",
            "\u001b[1m1563/1563\u001b[0m \u001b[32m━━━━━━━━━━━━━━━━━━━━\u001b[0m\u001b[37m\u001b[0m \u001b[1m79s\u001b[0m 49ms/step - accuracy: 0.3656 - loss: 1.7038 - val_accuracy: 0.5755 - val_loss: 1.1797\n",
            "Epoch 2/10\n",
            "\u001b[1m1563/1563\u001b[0m \u001b[32m━━━━━━━━━━━━━━━━━━━━\u001b[0m\u001b[37m\u001b[0m \u001b[1m84s\u001b[0m 51ms/step - accuracy: 0.6146 - loss: 1.0995 - val_accuracy: 0.6243 - val_loss: 1.0662\n",
            "Epoch 3/10\n",
            "\u001b[1m1563/1563\u001b[0m \u001b[32m━━━━━━━━━━━━━━━━━━━━\u001b[0m\u001b[37m\u001b[0m \u001b[1m80s\u001b[0m 50ms/step - accuracy: 0.6812 - loss: 0.9089 - val_accuracy: 0.6758 - val_loss: 0.9164\n",
            "Epoch 4/10\n",
            "\u001b[1m1563/1563\u001b[0m \u001b[32m━━━━━━━━━━━━━━━━━━━━\u001b[0m\u001b[37m\u001b[0m \u001b[1m81s\u001b[0m 49ms/step - accuracy: 0.7258 - loss: 0.7770 - val_accuracy: 0.6786 - val_loss: 0.9328\n",
            "Epoch 5/10\n",
            "\u001b[1m1563/1563\u001b[0m \u001b[32m━━━━━━━━━━━━━━━━━━━━\u001b[0m\u001b[37m\u001b[0m \u001b[1m83s\u001b[0m 50ms/step - accuracy: 0.7606 - loss: 0.6811 - val_accuracy: 0.7027 - val_loss: 0.8720\n",
            "Epoch 6/10\n",
            "\u001b[1m1563/1563\u001b[0m \u001b[32m━━━━━━━━━━━━━━━━━━━━\u001b[0m\u001b[37m\u001b[0m \u001b[1m77s\u001b[0m 49ms/step - accuracy: 0.7841 - loss: 0.6093 - val_accuracy: 0.7206 - val_loss: 0.8301\n",
            "Epoch 7/10\n",
            "\u001b[1m1563/1563\u001b[0m \u001b[32m━━━━━━━━━━━━━━━━━━━━\u001b[0m\u001b[37m\u001b[0m \u001b[1m81s\u001b[0m 49ms/step - accuracy: 0.8133 - loss: 0.5201 - val_accuracy: 0.7211 - val_loss: 0.8574\n",
            "Epoch 8/10\n",
            "\u001b[1m1563/1563\u001b[0m \u001b[32m━━━━━━━━━━━━━━━━━━━━\u001b[0m\u001b[37m\u001b[0m \u001b[1m81s\u001b[0m 48ms/step - accuracy: 0.8409 - loss: 0.4526 - val_accuracy: 0.7161 - val_loss: 0.9003\n",
            "Epoch 9/10\n",
            "\u001b[1m1563/1563\u001b[0m \u001b[32m━━━━━━━━━━━━━━━━━━━━\u001b[0m\u001b[37m\u001b[0m \u001b[1m86s\u001b[0m 51ms/step - accuracy: 0.8571 - loss: 0.4011 - val_accuracy: 0.7286 - val_loss: 0.9077\n",
            "Epoch 10/10\n",
            "\u001b[1m1563/1563\u001b[0m \u001b[32m━━━━━━━━━━━━━━━━━━━━\u001b[0m\u001b[37m\u001b[0m \u001b[1m81s\u001b[0m 50ms/step - accuracy: 0.8810 - loss: 0.3351 - val_accuracy: 0.7182 - val_loss: 1.0214\n",
            "\u001b[1m313/313\u001b[0m \u001b[32m━━━━━━━━━━━━━━━━━━━━\u001b[0m\u001b[37m\u001b[0m \u001b[1m5s\u001b[0m 17ms/step - accuracy: 0.7267 - loss: 0.9852\n"
          ]
        },
        {
          "output_type": "stream",
          "name": "stderr",
          "text": [
            "WARNING:absl:You are saving your model as an HDF5 file via `model.save()` or `keras.saving.save_model(model)`. This file format is considered legacy. We recommend using instead the native Keras format, e.g. `model.save('my_model.keras')` or `keras.saving.save_model(model, 'my_model.keras')`. \n"
          ]
        },
        {
          "output_type": "stream",
          "name": "stdout",
          "text": [
            "Test accuracy: 0.7182000279426575\n",
            "Imagem 1: passarinho -> passarinho (CERTO)\n",
            "Imagem 2: carro -> carro (CERTO)\n",
            "Imagem 3: cachorro -> gato (ERRO)\n",
            "Imagem 4: moto -> moto (CERTO)\n",
            "Imagem 5: caminhão -> caminhão (CERTO)\n",
            "Imagem 6: gato -> gato (CERTO)\n",
            "Imagem 7: moto -> moto (CERTO)\n",
            "Imagem 8: caminhão -> caminhão (CERTO)\n",
            "Imagem 9: avião -> avião (CERTO)\n",
            "Imagem 10: carro -> caminhão (ERRO)\n",
            "Imagem 11: cachorro -> cachorro (CERTO)\n",
            "Imagem 12: carro -> carro (CERTO)\n",
            "Imagem 13: gato -> cachorro (ERRO)\n",
            "Imagem 14: cachorro -> cachorro (CERTO)\n",
            "Imagem 15: caminhão -> caminhão (CERTO)\n",
            "Imagem 16: passarinho -> passarinho (CERTO)\n",
            "Imagem 17: moto -> avião (ERRO)\n",
            "Imagem 18: moto -> passarinho (ERRO)\n",
            "Imagem 19: gato -> gato (CERTO)\n",
            "Imagem 20: moto -> moto (CERTO)\n",
            "\n",
            "Efetividade: 15/20 = 75.0%\n"
          ]
        }
      ]
    }
  ]
}