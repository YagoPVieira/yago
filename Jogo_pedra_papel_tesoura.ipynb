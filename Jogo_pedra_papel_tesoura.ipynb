{
  "nbformat": 4,
  "nbformat_minor": 0,
  "metadata": {
    "colab": {
      "provenance": [],
      "authorship_tag": "ABX9TyN1Wn2mRe/p6O1JaC0ordEj",
      "include_colab_link": true
    },
    "kernelspec": {
      "name": "python3",
      "display_name": "Python 3"
    },
    "language_info": {
      "name": "python"
    }
  },
  "cells": [
    {
      "cell_type": "markdown",
      "metadata": {
        "id": "view-in-github",
        "colab_type": "text"
      },
      "source": [
        "<a href=\"https://colab.research.google.com/github/YagoPVieira/yago/blob/main/Jogo_pedra_papel_tesoura.ipynb\" target=\"_parent\"><img src=\"https://colab.research.google.com/assets/colab-badge.svg\" alt=\"Open In Colab\"/></a>"
      ]
    },
    {
      "cell_type": "markdown",
      "source": [
        "**Meu primeiro código em Python**"
      ],
      "metadata": {
        "id": "ZuJqg6NZU31H"
      }
    },
    {
      "cell_type": "code",
      "source": [
        "import random\n",
        "\n",
        "def jogar():\n",
        "\n",
        "  opcoes = [\"pedra\", \"papel\", \"tesoura\"]\n",
        "  escolha_usuario = input(\"Escolha pedra, papel ou tesoura: \").lower()\n",
        "  escolha_computador = random.choice(opcoes)\n",
        "\n",
        "  print(f\"\\nVocê escolheu {escolha_usuario}, o computador escolheu {escolha_computador}.\\n\")\n",
        "\n",
        "  if escolha_usuario == escolha_computador:\n",
        "    print(f\"Ambos escolheram {escolha_usuario}. É um empate!\")\n",
        "  elif (escolha_usuario == \"pedra\" and escolha_computador == \"tesoura\") or \\\n",
        "       (escolha_usuario == \"papel\" and escolha_computador == \"pedra\") or \\\n",
        "       (escolha_usuario == \"tesoura\" and escolha_computador == \"papel\"):\n",
        "    print(f\"{escolha_usuario} vence {escolha_computador}! Você ganhou!\")\n",
        "  else:\n",
        "    print(f\"{escolha_computador} vence {escolha_usuario}! Você perdeu.\")\n",
        "\n",
        "while True:\n",
        "  jogar()\n",
        "  if input(\"Jogar novamente? (s/n): \").lower() != \"s\":\n",
        "    break\n",
        "\n",
        "print(\"Obrigado por jogar!\")"
      ],
      "metadata": {
        "colab": {
          "base_uri": "https://localhost:8080/"
        },
        "id": "-3fAAiCXc69h",
        "outputId": "cecf4147-aedd-409f-cacd-c8ded5887267"
      },
      "execution_count": 13,
      "outputs": [
        {
          "output_type": "stream",
          "name": "stdout",
          "text": [
            "Escolha pedra, papel ou tesoura: tesoura\n",
            "\n",
            "Você escolheu tesoura, o computador escolheu pedra.\n",
            "\n",
            "pedra vence tesoura! Você perdeu.\n",
            "Jogar novamente? (s/n): s\n",
            "Escolha pedra, papel ou tesoura: pedra\n",
            "\n",
            "Você escolheu pedra, o computador escolheu tesoura.\n",
            "\n",
            "pedra vence tesoura! Você ganhou!\n",
            "Jogar novamente? (s/n): n\n",
            "Obrigado por jogar!\n"
          ]
        }
      ]
    }
  ]
}